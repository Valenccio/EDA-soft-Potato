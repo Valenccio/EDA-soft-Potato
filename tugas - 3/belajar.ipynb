{
 "cells": [
  {
   "cell_type": "markdown",
   "metadata": {},
   "source": [
    "Bagian Awal belajar Tensorflow"
   ]
  },
  {
   "cell_type": "code",
   "execution_count": 1,
   "metadata": {},
   "outputs": [],
   "source": [
    "import tensorflow as tf"
   ]
  },
  {
   "cell_type": "code",
   "execution_count": 2,
   "metadata": {},
   "outputs": [
    {
     "name": "stdout",
     "output_type": "stream",
     "text": [
      "[[69 41]\n",
      " [36 18]], \n",
      "      \n",
      "[[5 6 3 1]\n",
      " [6 2 9 6]], \n",
      "      \n",
      "[[5 6]\n",
      " [6 2]\n",
      " [3 1]\n",
      " [9 6]]\n"
     ]
    }
   ],
   "source": [
    "a = tf.constant([\n",
    "    [5,6],\n",
    "    [6,2]\n",
    "])\n",
    "\n",
    "b = tf.constant([\n",
    "    [3,1],\n",
    "    [9,6]\n",
    "])\n",
    "\n",
    "mutval = tf.matmul(a,b)\n",
    "concat_1 = tf.concat([a,b], axis=1)\n",
    "concat_0 = tf.concat([a,b], axis=0)\n",
    "\n",
    "print(f\"\"\"{mutval}, \n",
    "      \n",
    "{concat_1}, \n",
    "      \n",
    "{concat_0}\"\"\") # // print hasilnya"
   ]
  }
 ],
 "metadata": {
  "kernelspec": {
   "display_name": "Python 3",
   "language": "python",
   "name": "python3"
  },
  "language_info": {
   "codemirror_mode": {
    "name": "ipython",
    "version": 3
   },
   "file_extension": ".py",
   "mimetype": "text/x-python",
   "name": "python",
   "nbconvert_exporter": "python",
   "pygments_lexer": "ipython3",
   "version": "3.11.7"
  }
 },
 "nbformat": 4,
 "nbformat_minor": 2
}
